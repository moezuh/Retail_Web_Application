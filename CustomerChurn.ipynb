{
 "cells": [
  {
   "cell_type": "code",
   "execution_count": 1,
   "id": "curious-tactics",
   "metadata": {},
   "outputs": [],
   "source": [
    "from sklearn.linear_model import LogisticRegression\n",
    "from sklearn.model_selection import train_test_split\n",
    "from sklearn import preprocessing\n",
    "import matplotlib.pyplot as plt\n",
    "from sklearn import metrics\n",
    "import pandas as pd\n",
    "import numpy as np"
   ]
  },
  {
   "cell_type": "code",
   "execution_count": 3,
   "id": "preliminary-rachel",
   "metadata": {},
   "outputs": [
    {
     "data": {
      "text/html": [
       "<div>\n",
       "<style scoped>\n",
       "    .dataframe tbody tr th:only-of-type {\n",
       "        vertical-align: middle;\n",
       "    }\n",
       "\n",
       "    .dataframe tbody tr th {\n",
       "        vertical-align: top;\n",
       "    }\n",
       "\n",
       "    .dataframe thead th {\n",
       "        text-align: right;\n",
       "    }\n",
       "</style>\n",
       "<table border=\"1\" class=\"dataframe\">\n",
       "  <thead>\n",
       "    <tr style=\"text-align: right;\">\n",
       "      <th></th>\n",
       "      <th>TOTAL_SPEND</th>\n",
       "      <th>MARITAL</th>\n",
       "      <th>HH_SIZE</th>\n",
       "      <th>INCOME_RANGE</th>\n",
       "      <th>LOYALTY_FLAG</th>\n",
       "    </tr>\n",
       "  </thead>\n",
       "  <tbody>\n",
       "    <tr>\n",
       "      <th>0</th>\n",
       "      <td>89</td>\n",
       "      <td>1</td>\n",
       "      <td>0</td>\n",
       "      <td>2</td>\n",
       "      <td>1</td>\n",
       "    </tr>\n",
       "    <tr>\n",
       "      <th>1</th>\n",
       "      <td>94</td>\n",
       "      <td>0</td>\n",
       "      <td>2</td>\n",
       "      <td>3</td>\n",
       "      <td>1</td>\n",
       "    </tr>\n",
       "    <tr>\n",
       "      <th>2</th>\n",
       "      <td>79</td>\n",
       "      <td>0</td>\n",
       "      <td>1</td>\n",
       "      <td>5</td>\n",
       "      <td>1</td>\n",
       "    </tr>\n",
       "    <tr>\n",
       "      <th>3</th>\n",
       "      <td>292</td>\n",
       "      <td>0</td>\n",
       "      <td>4</td>\n",
       "      <td>2</td>\n",
       "      <td>1</td>\n",
       "    </tr>\n",
       "    <tr>\n",
       "      <th>4</th>\n",
       "      <td>150</td>\n",
       "      <td>0</td>\n",
       "      <td>2</td>\n",
       "      <td>4</td>\n",
       "      <td>1</td>\n",
       "    </tr>\n",
       "  </tbody>\n",
       "</table>\n",
       "</div>"
      ],
      "text/plain": [
       "   TOTAL_SPEND  MARITAL  HH_SIZE  INCOME_RANGE  LOYALTY_FLAG\n",
       "0           89        1        0             2             1\n",
       "1           94        0        2             3             1\n",
       "2           79        0        1             5             1\n",
       "3          292        0        4             2             1\n",
       "4          150        0        2             4             1"
      ]
     },
     "execution_count": 3,
     "metadata": {},
     "output_type": "execute_result"
    }
   ],
   "source": [
    "# Read the data\n",
    "data = pd.read_csv(\"D:\\Personal_Stuff\\MS_stuff\\Spring_courses\\Cloud Computing\\Midterm project\\Webapp\\CustomerChurn.csv\") # Change path to file location in your computer\n",
    "data.head()"
   ]
  },
  {
   "cell_type": "code",
   "execution_count": 4,
   "id": "exceptional-mobile",
   "metadata": {},
   "outputs": [
    {
     "data": {
      "text/plain": [
       "\"\\ndata.INCOME_RANGE = pd.Categorical(data.INCOME_RANGE)\\ndata.HH_SIZE = pd.Categorical(data.HH_SIZE)\\ndata.MARITAL = pd.Categorical(data.MARITAL)\\ndata.LOYALTY_FLAG = pd.Categorical(data.LOYALTY_FLAG)\\ndata['INCOME_RANGE'] = data.INCOME_RANGE.cat.codes\\ndata['HH_SIZE'] = data.HH_SIZE.cat.codes\\ndata['MARITAL'] = data.MARITAL.cat.codes\\ndata['LOYALTY_FLAG'] = data.LOYALTY_FLAG.cat.codes\\ndata['TOTAL_SPEND'] = data.TOTAL_SPEND.astype('int')\\n\""
      ]
     },
     "execution_count": 4,
     "metadata": {},
     "output_type": "execute_result"
    }
   ],
   "source": [
    "# Data cleaning\n",
    "'''\n",
    "data.INCOME_RANGE = pd.Categorical(data.INCOME_RANGE)\n",
    "data.HH_SIZE = pd.Categorical(data.HH_SIZE)\n",
    "data.MARITAL = pd.Categorical(data.MARITAL)\n",
    "data.LOYALTY_FLAG = pd.Categorical(data.LOYALTY_FLAG)\n",
    "data['INCOME_RANGE'] = data.INCOME_RANGE.cat.codes\n",
    "data['HH_SIZE'] = data.HH_SIZE.cat.codes\n",
    "data['MARITAL'] = data.MARITAL.cat.codes\n",
    "data['LOYALTY_FLAG'] = data.LOYALTY_FLAG.cat.codes\n",
    "data['TOTAL_SPEND'] = data.TOTAL_SPEND.astype('int')\n",
    "'''"
   ]
  },
  {
   "cell_type": "code",
   "execution_count": 5,
   "id": "mounted-telescope",
   "metadata": {},
   "outputs": [],
   "source": [
    "#data.to_csv(r'D:\\Personal_Stuff\\MS_stuff\\Spring_courses\\Cloud Computing\\Midterm project\\Webapp\\CustomerChurn.csv', index = False)"
   ]
  },
  {
   "cell_type": "code",
   "execution_count": 6,
   "id": "extended-space",
   "metadata": {},
   "outputs": [],
   "source": [
    "# seperating features and label\n",
    "X = data.iloc[:, 1:-1]\n",
    "y = data.iloc[:, -1]"
   ]
  },
  {
   "cell_type": "code",
   "execution_count": 7,
   "id": "level-victory",
   "metadata": {},
   "outputs": [
    {
     "name": "stdout",
     "output_type": "stream",
     "text": [
      "1    197\n",
      "0     71\n",
      "Name: LOYALTY_FLAG, dtype: int64\n"
     ]
    }
   ],
   "source": [
    "# Check for each class count\n",
    "print(y.value_counts())"
   ]
  },
  {
   "cell_type": "code",
   "execution_count": 8,
   "id": "loved-general",
   "metadata": {},
   "outputs": [],
   "source": [
    "#Scaling data to normalize it\n",
    "sx = preprocessing.MinMaxScaler()\n",
    "sy = preprocessing.MinMaxScaler()\n",
    "scaled_X = sx.fit_transform(X)\n",
    "scaled_y = sy.fit_transform(y.to_numpy().reshape(-1, 1))"
   ]
  },
  {
   "cell_type": "code",
   "execution_count": 21,
   "id": "satellite-recognition",
   "metadata": {},
   "outputs": [],
   "source": [
    "#split data into training and test\n",
    "X_train, X_test, y_train, y_test = train_test_split(scaled_X, scaled_y, test_size = 0.2, random_state=42)"
   ]
  },
  {
   "cell_type": "code",
   "execution_count": 22,
   "id": "spread-asbestos",
   "metadata": {},
   "outputs": [
    {
     "data": {
      "text/plain": [
       "LogisticRegression(max_iter=1000)"
      ]
     },
     "execution_count": 22,
     "metadata": {},
     "output_type": "execute_result"
    }
   ],
   "source": [
    "# Define the model\n",
    "model = LogisticRegression(max_iter = 1000)\n",
    "\n",
    "# Train the model\n",
    "model.fit(X_train, y_train.ravel())"
   ]
  },
  {
   "cell_type": "code",
   "execution_count": 23,
   "id": "extraordinary-latter",
   "metadata": {},
   "outputs": [],
   "source": [
    "# Test the model\n",
    "predictions = model.predict(X_test)"
   ]
  },
  {
   "cell_type": "code",
   "execution_count": 24,
   "id": "blank-virus",
   "metadata": {},
   "outputs": [
    {
     "name": "stdout",
     "output_type": "stream",
     "text": [
      "0.7407407407407407\n"
     ]
    }
   ],
   "source": [
    "# Check accuracy score\n",
    "score = model.score(X_test, y_test)\n",
    "print(score)"
   ]
  },
  {
   "cell_type": "code",
   "execution_count": null,
   "id": "accurate-thanksgiving",
   "metadata": {},
   "outputs": [],
   "source": []
  }
 ],
 "metadata": {
  "kernelspec": {
   "display_name": "Python 3",
   "language": "python",
   "name": "python3"
  },
  "language_info": {
   "codemirror_mode": {
    "name": "ipython",
    "version": 3
   },
   "file_extension": ".py",
   "mimetype": "text/x-python",
   "name": "python",
   "nbconvert_exporter": "python",
   "pygments_lexer": "ipython3",
   "version": "3.8.5"
  }
 },
 "nbformat": 4,
 "nbformat_minor": 5
}
